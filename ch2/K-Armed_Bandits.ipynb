{
 "cells": [
  {
   "cell_type": "code",
   "execution_count": null,
   "metadata": {},
   "outputs": [],
   "source": [
    "import matplotlib\n",
    "import matplotlib.pyplot as plt\n",
    "import numpy as np\n",
    "from tqdm.notebook import tnrange\n",
    "%matplotlib inline"
   ]
  },
  {
   "cell_type": "code",
   "execution_count": null,
   "metadata": {},
   "outputs": [],
   "source": [
    "class Environment:\n",
    "    \n",
    "    \n",
    "    def __init__(self, k=10, mean=0.0, sigma=1.0):\n",
    "        self.k = k\n",
    "        self.mean = mean\n",
    "        self.sigma = sigma\n",
    "        self.k_arms = np.arange(self.k)\n",
    "        self.reset()\n",
    "        \n",
    "        \n",
    "    def reward(self, action):\n",
    "        # Produce a reward using N(µ=true reward, σ^2=1)\n",
    "        # Old: reward = np.random.randn() + self.q_true[action]\n",
    "        return np.random.normal(self.q_star[action], scale=1.0)\n",
    "    \n",
    "    \n",
    "    def reset(self):\n",
    "        self.q_star = np.random.normal(self.mean, self.sigma, self.k)\n",
    "        self.q_best = max(self.q_star)\n",
    "        self.best_action = np.random.choice(np.flatnonzero(self.q_star == self.q_best))"
   ]
  },
  {
   "cell_type": "code",
   "execution_count": null,
   "metadata": {},
   "outputs": [],
   "source": [
    "class NonStationaryEnvironment(Environment):\n",
    "    \n",
    "    \n",
    "    def __init__(self, k=10, mean=0.0, sigma=1.0, rand_walk=0.01):\n",
    "        super().__init__(k, mean, sigma)\n",
    "        self.rand_walk = rand_walk\n",
    "        \n",
    "        \n",
    "    def reset(self):\n",
    "        super().reset()\n",
    "        \n",
    "        \n",
    "    def reward(self, action):\n",
    "        self.q_star += np.random.normal(0.0, scale=self.rand_walk, size=self.k)\n",
    "        self.q_best = max(self.q_star)\n",
    "        self.best_action = np.random.choice(np.flatnonzero(self.q_star == self.q_best))\n",
    "        return super().reward(action)"
   ]
  },
  {
   "cell_type": "code",
   "execution_count": null,
   "metadata": {},
   "outputs": [],
   "source": [
    "class EpsilonGreedyAgent:\n",
    "    \n",
    "    \n",
    "    def __init__(self, k=10, epsilon=0.0, initial=0.0, alpha=None):\n",
    "        self.k = k\n",
    "        self.epsilon = epsilon\n",
    "        self.initial = initial\n",
    "        self.action_space = np.arange(self.k)\n",
    "        self.alpha = alpha\n",
    "        self.reset()\n",
    "        \n",
    "        \n",
    "    def __repr__(self):\n",
    "        if self.alpha:\n",
    "            return f\"EpsilonGreedy | ε = {self.epsilon:.02f}, α = {self.alpha:0.02f}\"\n",
    "        return f\"EpsilonGreedy | ε = {self.epsilon:.02f}\"\n",
    "        \n",
    "        \n",
    "    def reset(self):\n",
    "        self.q_est = np.zeros(self.k) + self.initial\n",
    "        self.action_count = np.zeros(self.k)\n",
    "        \n",
    "        \n",
    "    def act(self):\n",
    "        if np.random.rand() < self.epsilon:\n",
    "            return np.random.choice(self.action_space)\n",
    "\n",
    "        q_best = max(self.q_est)\n",
    "        return np.random.choice(np.flatnonzero(self.q_est == q_best))\n",
    "    \n",
    "    \n",
    "    def update(self, action, reward):\n",
    "        self.action_count[action] += 1\n",
    "        if self.alpha:\n",
    "            # Use constant step size updates\n",
    "            self.q_est[action] += self.alpha * (reward - self.q_est[action])\n",
    "        else:\n",
    "            # Use sample averaging\n",
    "            self.q_est[action] += (reward - self.q_est[action]) / self.action_count[action]"
   ]
  },
  {
   "cell_type": "code",
   "execution_count": null,
   "metadata": {},
   "outputs": [],
   "source": [
    "class UCBAgent(EpsilonGreedyAgent):\n",
    "    \n",
    "    \n",
    "    def __init__(self, k, c):\n",
    "        super().__init__(k)\n",
    "        self.steps = 0\n",
    "        self.c = c\n",
    "        \n",
    "    \n",
    "    def __repr__(self):\n",
    "        return f\"UCBAgent | c = {self.c}\"\n",
    "    \n",
    "    \n",
    "    def act(self):\n",
    "        # Add small number .0001 to prevent empty action count\n",
    "        ucb_est = self.q_est + self.c * np.sqrt(np.log(self.steps + 1) / (self.action_count + 1e-5))\n",
    "        q_best = max(ucb_est)\n",
    "        return np.random.choice(np.flatnonzero(ucb_est == q_best))\n",
    "    \n",
    "    \n",
    "    def update(self, action, reward):\n",
    "        self.steps += 1\n",
    "        super().update(action, reward)    "
   ]
  },
  {
   "cell_type": "code",
   "execution_count": null,
   "metadata": {},
   "outputs": [],
   "source": [
    "import threading\n",
    "from concurrent.futures import ThreadPoolExecutor\n",
    "from copy import deepcopy\n",
    "\n",
    "\n",
    "tp = ThreadPoolExecutor(10)\n",
    "\n",
    "\n",
    "def threaded(fn):\n",
    "    def wrapper(*args, **kwargs):\n",
    "        return tp.submit(fn, *args, **kwargs)\n",
    "    return wrapper\n",
    "    \n",
    "\n",
    "class Simulate:\n",
    "    \n",
    "    \n",
    "    def __init__(self, env, agents, runs=2000, steps=1000):\n",
    "        self.env = env\n",
    "        self.agents = agents\n",
    "        self.runs = runs\n",
    "        self.steps = steps\n",
    "        self.rewards = np.zeros((len(agents), runs, steps))\n",
    "        self.best_action_counts = np.zeros(self.rewards.shape)\n",
    "        self._lock = threading.Lock()\n",
    "\n",
    "        \n",
    "    @threaded\n",
    "    def simulate_agent(agent, runs, steps):\n",
    "        \"\"\" WIP\n",
    "        \n",
    "            Parallelize each agent as a parent thread to execute \n",
    "            runs and aggregate results\n",
    "        \n",
    "        \"\"\"\n",
    "        rewards = np.zeros(runs, steps)\n",
    "        best_action_counts = np.zeros(runs, steps)\n",
    "        \n",
    "        for run in tnrange(runs):\n",
    "            self.simulate_run(agent, steps)\n",
    "                    \n",
    "        return rewards, best_action_counts\n",
    "\n",
    "    \n",
    "    @threaded\n",
    "    def simulate_run(agent, steps):\n",
    "        \"\"\" WIP - Parallelize each run\n",
    "        \"\"\"\n",
    "        env = deepcopy(self.env)\n",
    "        agent = deepcopy(agent)\n",
    "        rewards = np.zeros(steps)\n",
    "        best_action_counts = np.zeros(steps)\n",
    "        \n",
    "        env.reset()\n",
    "        agent.reset()\n",
    "        for step in range(steps):\n",
    "            action = agent.act()\n",
    "            reward = env.reward(action)\n",
    "            agent.update(action, reward)\n",
    "            rewards[step] += reward\n",
    "            if action == env.best_action:\n",
    "                best_action_counts[step] += 1\n",
    "                    \n",
    "    \n",
    "    def run(self):\n",
    "        \"\"\" Legacy Entrypoint - Naive parallelism \"\"\"\n",
    "        def work(env, agent, runs, steps, idx):\n",
    "            for run in tnrange(runs):\n",
    "                env.reset()\n",
    "                agent.reset()\n",
    "                for step in range(steps):\n",
    "                    action = agent.act()\n",
    "                    reward = env.reward(action)\n",
    "                    agent.update(action, reward)\n",
    "\n",
    "                    #with self._lock:\n",
    "                    self.rewards[idx, run, step] += reward\n",
    "                    if action == env.best_action:\n",
    "                        self.best_action_counts[idx, run, step] += 1\n",
    "\n",
    "\n",
    "        threads = list()\n",
    "        for i, agent in enumerate(self.agents):\n",
    "            t = threading.Thread(target=work, args=(deepcopy(self.env), agent, self.runs, self.steps, i))\n",
    "            threads.append(t)\n",
    "            t.start()\n",
    "\n",
    "\n",
    "        for idx, thread in enumerate(threads):\n",
    "            thread.join()"
   ]
  },
  {
   "cell_type": "code",
   "execution_count": null,
   "metadata": {},
   "outputs": [],
   "source": [
    "def plot_agent_performance(simulator):\n",
    "    reward_mean = np.mean(simulator.rewards, axis=1)\n",
    "    best_action_count_mean = np.mean(simulator.best_action_counts, axis=1)\n",
    "    \n",
    "    plt.figure(figsize=(12.5, 10))\n",
    "    ax1 = plt.subplot(2, 1, 1)\n",
    "    ax2 = plt.subplot(2, 1, 2)\n",
    "    for i, agent in enumerate(simulator.agents):\n",
    "        ax1.plot(reward_mean[i], label=str(agent))\n",
    "        ax2.plot(best_action_count_mean[i], label=str(agent))\n",
    "    \n",
    "    ax1.set_xlabel('Steps')\n",
    "    ax1.set_ylabel('Average Reward')\n",
    "    ax1.legend()\n",
    "        \n",
    "    ax2.set_xlabel('Steps')\n",
    "    ax2.set_ylabel('% Optimal Action')\n",
    "    ax2.legend()"
   ]
  },
  {
   "cell_type": "markdown",
   "metadata": {},
   "source": [
    "# The 10-Armed Testbed"
   ]
  },
  {
   "cell_type": "markdown",
   "metadata": {},
   "source": [
    "## Violin Plot\n",
    "---"
   ]
  },
  {
   "cell_type": "code",
   "execution_count": 4,
   "metadata": {},
   "outputs": [
    {
     "data": {
      "text/plain": [
       "Text(0, 0.5, 'Reward Distribution')"
      ]
     },
     "execution_count": 4,
     "metadata": {},
     "output_type": "execute_result"
    },
    {
     "data": {
      "image/png": "[encoded data removed]",
      "text/plain": [
       "<Figure size 900x360 with 1 Axes>"
      ]
     },
     "metadata": {
      "needs_background": "light"
     },
     "output_type": "display_data"
    }
   ],
   "source": [
    "plt.figure(figsize=(12.5, 5))\n",
    "plt.violinplot(dataset=np.random.randn(2000, 10) + np.random.randn(10), showmeans=True)\n",
    "plt.xlabel(\"Action\")\n",
    "plt.ylabel(\"Reward Distribution\")"
   ]
  },
  {
   "cell_type": "markdown",
   "metadata": {},
   "source": [
    "## Figure 2.2\n",
    "---"
   ]
  },
  {
   "cell_type": "code",
   "execution_count": null,
   "metadata": {},
   "outputs": [],
   "source": [
    "env = Environment()\n",
    "agents = [ EpsilonGreedyAgent(env.k, epsilon) for epsilon in [0, 0.01, 0.1] ]\n",
    "\n",
    "sim = Simulate(env, agents)\n",
    "sim.run()\n",
    "\n",
    "plot_agent_performance(sim)"
   ]
  },
  {
   "cell_type": "markdown",
   "metadata": {},
   "source": [
    "# Tracking a Nonstationary Problem"
   ]
  },
  {
   "cell_type": "markdown",
   "metadata": {},
   "source": [
    "## Exercise 2.4\n",
    "---\n",
    "If the step-size parameters, $ \\alpha_n $, are not constant, then the estimate $ Q_n $ is a weighted average of previously received rewards with a weighting different from that given by (2.6). What is the weighting on each prior reward for the general case, analogous to (2.6), in terms of the sequence of step-size parameters?  \n",
    "\n",
    "\\begin{equation*}\n",
    "Q_{n+1}=(1 - \\alpha)^n Q_1 + \\sum_{i=1}^{n}\\alpha(1-\\alpha)^{n-i}R_i \\tag{2.6}\n",
    "\\end{equation*}\n",
    "\n",
    "### Solution:\n",
    "---\n",
    "Let $ \\alpha_{n}(a) $ vary with time:\n",
    "\n",
    "\\begin{align*}\n",
    "Q_{n+1}\n",
    "&= Q_n + \\alpha_n[R_n - Q_n] \\\\\n",
    "&= (1 - \\alpha_n)Q_n + \\alpha_nR_n \\\\\n",
    "&= (1 - \\alpha_n)(\\alpha_{n-1}R_{n-1} + (1 - \\alpha_{n-1})Q_{n-1}) + \\alpha_nR_n \\\\\n",
    "&= (1 - \\alpha_n)\\alpha_{n-1}R_{n-1} + (1 - \\alpha_n)(1 - \\alpha_{n-1})Q_{n-1} + \\alpha_nR_n \\\\\n",
    "&= (1 - \\alpha_n)\\alpha_{n-1}R_{n-1} + (1 - \\alpha_n)^2\\alpha_nR_{n-2} + ... + (1 - \\alpha_n)^{n-1}\\alpha_nR_1  + (1 - \\alpha_n)^nQ_1 + \\alpha_nR_n \\\\\n",
    "&= Q_1\\prod_{i=1}^n(1 - \\alpha_i) + \\sum_{i=1}^n(\\alpha_iR_i\\prod_{j=i}^n(1 - \\alpha_j))\n",
    "\\end{align*}\n",
    "\n"
   ]
  },
  {
   "cell_type": "markdown",
   "metadata": {},
   "source": [
    "## Exercise 2.5\n",
    "---\n",
    "Design and conduct an experiment to demonstrate the difficulties that sample-average methods have for nonstationary problems. Use a modified version of the 10-armed testbed in which all the $ q_{*}(a) $ start out equal and then take independent random walks (say by adding a normally distributed increment with mean zero and standard deviation 0.01 to all the $ q_{*}(a) $ on each step).\n",
    "\n",
    "Prepare plots like Figure 2.2 for an action-value method using sample averages, incrementally computed, and another action-value method using a constant step-size parameter, $ \\alpha=0.1 $. Use $ \\epsilon=0.1 $ and longer runs, say of 10,000 steps."
   ]
  },
  {
   "cell_type": "code",
   "execution_count": null,
   "metadata": {},
   "outputs": [],
   "source": [
    "env = NonStationaryEnvironment()\n",
    "agents = [EpsilonGreedyAgent(env.k, epsilon=0.1), EpsilonGreedyAgent(env.k, epsilon=0.1, alpha=0.1)]\n",
    "\n",
    "sim = Simulate(env, agents, steps=10000)\n",
    "sim.run()\n",
    "\n",
    "plot_agent_performance(sim)"
   ]
  },
  {
   "cell_type": "markdown",
   "metadata": {},
   "source": [
    "## Optimistic Initial Values\n",
    "---"
   ]
  },
  {
   "cell_type": "code",
   "execution_count": null,
   "metadata": {},
   "outputs": [],
   "source": [
    "env = Environment()\n",
    "agents = [EpsilonGreedyAgent(env.k, alpha=0.1, initial=5), EpsilonGreedyAgent(env.k, epsilon=0.1, alpha=0.1)]\n",
    "\n",
    "sim = Simulate(env, agents)\n",
    "sim.run()\n",
    "\n",
    "plot_agent_performance(sim)"
   ]
  },
  {
   "cell_type": "markdown",
   "metadata": {},
   "source": [
    "## Exercise 2.6: Mysterious Spikes\n",
    "---\n",
    "The results shown in Fig 2.3 should be quite reliable because they are averages over 2000 individual, randomly chosen 10-armed bandit tasks. Why, then, are there oscillations and spikes in the early part of the curve for the optimistic method? In other words, what might make this method perform particularly better or worse, on average, on particular early steps?\n",
    "\n",
    "### Solution:\n",
    "\n",
    "With an initial estimate of 5 and a stationary reward distribution given by:\n",
    "\n",
    "\\begin{equation*}\n",
    "Q_{*}(a) \\sim \\mathcal{N}(\\mu=0, \\sigma^{2}=1)\n",
    "\\end{equation*}\n",
    "\n",
    "During the first k steps of each run, the bandit will sample each available step at least once as there effectively no chance the sampled reward $ R_{n}(a) \\sim \\mathcal{N}(\\mu=Q_{*}(a), \\sigma^{2}=1) $ will be >= 5 for n <= k. As each sampled action during step $ \\{ n | n <= k \\} $ adjusts the expected reward downwards toward the true reward, after all estimates have been updated by each action on step $ n = k + 1 $ having been selected, the bandit has a strong probability of sampling the optimal action which explains the initial spike at $ step=k + 1=11 $. \n",
    "\n",
    "There is overlap in the reward distribution $ Q_{*}(a) $ so it is highly probable that the optimal action will sample lower than other actions and the greedy algorithm will act on them subsequently in early steps before estimates have annealed. As the sample size grows the expected return from the optimal action will more consistently be greater than the other actions and will be selected correctly more often in greater time steps."
   ]
  },
  {
   "cell_type": "markdown",
   "metadata": {},
   "source": [
    "## Exercise 2.7: Unbiased Constant Step Size Trick\n",
    "---\n",
    "Throughout most of the chapter we have used sample averages to estimate action values because sample averages do not produce the initial bias that constant step sizes do. However, sample averages are not a completely satisfactory solution because they may perform poorly on nonstationary problems. Is it possible to avoid the bias of constant step sizes while on non-stationary problems? One way is to use a step size of:\n",
    "\n",
    "\\begin{equation*}\n",
    "\\beta_n \\doteq \\frac{\\alpha}{\\bar{o}_n}\n",
    "\\end{equation*}\n",
    "\n",
    "to process the nth reward for a particular action, where $ \\alpha > 0 $ is a conventional constant step size, and $ \\bar{o}_n $ is a trace of one that starts at 0:\n",
    "\n",
    "$ \\bar{o}_n \\doteq \\bar{o}_{n-1} + \\alpha(1 - \\bar{o}_{n-1}) $ , for $ n \\geq 0 $ , with $ \\bar{o}_0 \\doteq 0 $.\n",
    "\n",
    "Carry out an analysis like that in (2.6) to show that $ Q_n $ is an exponential recency-weighted average *without initial bias*.\n",
    "\n",
    "### Solution:\n",
    "$ \\beta_1 = 1 $ given $ \\bar{o}_0 \\doteq 0 $, and $ \\frac{\\alpha}{\\alpha} = 1 $ and converges to $ \\alpha $ as successive steps are taken. Since $ \\beta_1 = 1 $ the  reward is fully represented by the full weight and the step-size goes on to converge to the true underlying step-size $ \\alpha $ after which it behaves as constant-step size while avoiding the initial bias."
   ]
  },
  {
   "cell_type": "markdown",
   "metadata": {},
   "source": [
    "# Upper-Confidence-Bound Action Selection"
   ]
  },
  {
   "cell_type": "code",
   "execution_count": null,
   "metadata": {},
   "outputs": [],
   "source": [
    "env = Environment()\n",
    "agents = [UCBAgent(env.k, 2), EpsilonGreedyAgent(env.k, epsilon=0.1)]\n",
    "\n",
    "sim = Simulate(env, agents)\n",
    "sim.run()\n",
    "\n",
    "plot_agent_performance(sim)"
   ]
  },
  {
   "cell_type": "markdown",
   "metadata": {},
   "source": [
    "## Exercise 2.8: Mysterious Spikes\n",
    "---\n",
    "In the above figure the UCB algorithm shows a distinct spike in performance on the 11th step. Why is this?\n",
    "\n",
    "### Solution:\n",
    "\n",
    "The UCB algorithm is selecting actions according to:\n",
    "\n",
    "\\begin{equation*}\n",
    "A_t \\doteq \\underset{a}{\\mathrm{argmax}} \\left[ \\hspace{0.5em} Q_t(a) + c  \\sqrt{\\frac{ln(t)}{N_t(a)}} \\hspace{0.5em} \\right]\n",
    "\\end{equation*}\n",
    "\n",
    "Where c is the exploratory parameter and $N_t(a)$ is considered to be optimal if 0. Since during the first 10 timesteps there are remaining unexplored actions, they will be successively chosen and as there is only one optimal selection, the action will only be optimal in approximately 10% of the trials (as shown above with 0.1% Optimal Action selection for timestep 1-10).\n",
    "\n",
    "On the 11th step the model has a full representation of the action space and with high probability will select the optimal action from the computed action value. This is reflected by a spike where nearly 45% of the runs selected the optimal action on step 11. However, the number of selections for each action besides the one picked in step 11 is now 1, so the uncertainty for each action is still high and the suboptimal actions will be selected with decreasing probability as the number of steps increases and the confidence in the optimal actions estimation grows."
   ]
  },
  {
   "cell_type": "markdown",
   "metadata": {},
   "source": [
    "# Gradient Bandit Algorithms\n",
    "\n",
    "Softmax Distribution\n",
    "\\begin{equation*}\n",
    "Pr \\{ A_t=a \\} \\doteq \\frac{e^{H_t(a)}}{\\sum_{b=1}^{k}e^{H_t(b)}} \\doteq \\pi_t(a)\n",
    "\\end{equation*}\n",
    "\n",
    "On each step, after selecting action $ A_t $ and receiving the reward $ R_t $,  the action preferences are updated by:\n",
    "\n",
    "\\begin{equation*}\n",
    "H_{t+1}(A_t) \\doteq H_t(A_t) + \\alpha(R_t - \\bar{R}_t)(1 - \\pi_t(A_t)) \\text{, and} \n",
    "\\\\\n",
    "H_{t+1}(a) \\doteq H_t(a) - \\alpha(R_t - \\bar{R}_t)\\pi_t(a) \\text{, for all $ a \\neq A_t$}\n",
    "\\end{equation*}"
   ]
  },
  {
   "cell_type": "code",
   "execution_count": null,
   "metadata": {},
   "outputs": [],
   "source": [
    "class GradientAgent:\n",
    "    \n",
    "    \n",
    "    def __init__(self, k, alpha=0.1, baseline=False):\n",
    "        self.k = k\n",
    "        self.alpha = alpha\n",
    "        self.baseline=baseline\n",
    "        self.action_space = np.arange(self.k)\n",
    "        self.reset()\n",
    "    \n",
    "    \n",
    "    def __repr__(self):\n",
    "        return f\"GradientSoftmax Agent | α = {self.alpha}, baseline = {self.baseline}\"\n",
    "    \n",
    "    \n",
    "    def reset(self):\n",
    "        self.time = 0\n",
    "        self.avg_reward = 0\n",
    "        self.q_est = np.zeros(self.k)\n",
    "        self.action_count = np.zeros(self.k)\n",
    "        self.action_prob = np.ones(self.k) / self.k\n",
    "        \n",
    "    \n",
    "    def act(self):\n",
    "        return np.random.choice(self.action_space, p=self.action_prob)\n",
    "    \n",
    "    \n",
    "    def update(self, action, reward):\n",
    "        self.time += 1\n",
    "        self.action_count[action] += 1\n",
    "        self.avg_reward += (reward - self.avg_reward) / self.time\n",
    "        \n",
    "        exp_q_est = np.exp(self.q_est)\n",
    "        self.action_prob = exp_q_est / np.sum(exp_q_est)\n",
    "        \n",
    "        one_hot = np.zeros(self.k)\n",
    "        one_hot[action] = 1\n",
    "        \n",
    "        baseline = self.avg_reward if self.baseline else 0\n",
    "        self.q_est += self.alpha * (reward - baseline) * (one_hot - self.action_prob)"
   ]
  },
  {
   "cell_type": "code",
   "execution_count": null,
   "metadata": {},
   "outputs": [],
   "source": [
    "env = Environment()\n",
    "agents = [GradientAgent(env.k, 0.25), GradientAgent(env.k, 0.25, True)]\n",
    "\n",
    "sim = Simulate(env, agents)\n",
    "sim.run()\n",
    "\n",
    "plot_agent_performance(sim)"
   ]
  },
  {
   "cell_type": "markdown",
   "metadata": {},
   "source": [
    "### Figure 2.5\n",
    "---\n",
    "Average performance of the gradient bandit algorithm with and without a reward baseline on the 10-armed testbed when the $ q_*(a) $ are chosen to be near +4 rather than near zero."
   ]
  },
  {
   "cell_type": "code",
   "execution_count": null,
   "metadata": {},
   "outputs": [],
   "source": [
    "env = Environment(mean=4.0)\n",
    "agents = [\n",
    "            GradientAgent(env.k, 0.1, True), \n",
    "            GradientAgent(env.k, 0.1, False), \n",
    "            GradientAgent(env.k, 0.4, True), \n",
    "            GradientAgent(env.k, 0.4, False)\n",
    "         ]\n",
    "\n",
    "sim = Simulate(env, agents)\n",
    "sim.run()\n",
    "\n",
    "plot_agent_performance(sim)"
   ]
  },
  {
   "cell_type": "markdown",
   "metadata": {},
   "source": [
    "## Exercise 2.9\n",
    "---\n",
    "Show that in the case of two actions, the soft-max distribution is the same as that given by the logistic, or sigmoid, function often used in statistics and artificial neural networks.\n",
    "\n",
    "### Solution\n",
    "\n",
    "The logistic function in artificial neural networks is given as:\n",
    "\n",
    "\\begin{equation*}\n",
    "f(x) = \\frac{L}{1+e^{-k(x-x_0)}}\n",
    "\\end{equation*}\n",
    "\n",
    "Where:\n",
    "\n",
    "$ L $ = maximum value of the curve\n",
    "\n",
    "$ k $ = Steepness\n",
    "\n",
    "$ x_0 $ = X value of the midpoint.\n",
    "\n",
    "\n",
    "The sigmoid function is the standard logistic function is given as a standard logistic function by:\n",
    "\n",
    "$ L = 1 $\n",
    "\n",
    "$ k = 1 $\n",
    "\n",
    "$ x_0 = 0 $\n",
    "\n",
    "\\begin{equation*}\n",
    "S(x) = \\frac{1}{1+e^{-x}}\n",
    "\\end{equation*}\n",
    "\n",
    "In the binary case, we can see that the softmax distribution expands to:\n",
    "\n",
    "\\begin{equation*}\n",
    "Pr \\{ A_t=a \\} \\doteq \\frac{e^{H_t(a)}}{e^{H_t(a)} + e^{H_t(b)}}\n",
    "= \\frac{1}{1 + e^{H_t(b)-H_t(a)}}\n",
    "\\end{equation*}\n",
    "\n",
    "Now note that the structure of the exponent in the logistic $ -k(x-x_0) $. Observe that the exponent in the denominator  can be expressed in the same form $ (H_t(b) - H_t(a)) = -(H_t(a)-H_t(b)) $. Substituting the above into the binary softmax equation we obtain the logistic function in standard form:\n",
    "\\begin{align*}\n",
    "\\frac{1}{1 + e^{-(H_t(a)-H_t(b))}} = f(x)\n",
    "\\end{align*}\n",
    "\n",
    "And let:\n",
    "\n",
    "$ x = H_t(a) - H_t(b) $\n",
    "\n",
    "to place the equation in the form of the sigmoid:\n",
    "\\begin{align*}\n",
    "&= \\frac{1}{1 + e^{-x}} = S(x)\n",
    "\\end{align*}\n"
   ]
  },
  {
   "cell_type": "markdown",
   "metadata": {},
   "source": [
    "# Associative Search (Contextual Bandits)"
   ]
  },
  {
   "cell_type": "markdown",
   "metadata": {},
   "source": [
    "## Exercise 2.10\n",
    "---\n",
    "Suppose you face a 2-armed bandit task whose true action values change randomly from time step to time step. Specifically, suppose that, for any time step, the true values of actions 1 and 2 are respectively 0.1 and 0.2 with probability 0.5 (case A), and 0.9 and 0.8 with probability 0.5 (case B). If you are not able to tell which case you face at any step, what is the best expectation of success you can achieve and how should you behave to achieve it? Now suppose that on each step you are told whether you are facing case A or case B (although you still don't know the true action values). This is an associative search task. What is the best expectation of success you can achieve in this task, and how should you behave to achieve it?\n",
    "\n",
    "### Solution\n",
    "\n",
    "In a situation where I as the agent am not able to determine the case I am facing, I know ahead of time that the probability of each case is 0.5. Generally computing the optimal action could be done by averaging the expected reward for each action across each case. However, I also know the alternating values have and can determine that in the long-run the expected reward for either action selection is equivalent $( 0.5 )$. In this case I don't know that the non-stationary techniques would hold any advantage over using the stationary methods as the optimal possible reward with no information is effectively no better than random.\n",
    "\n",
    "In the case where I am able to determine which case I am facing, I can leverage a distinct non-stationary algorithm for each case individually and selectively apply it when I observe the state prior to taking an action. With an optimal policy learned the best I could hope to achieve is selecting action 2 in Case A and action 1 in case B and to earn an average reward of $ (0.5)(0.2) + (0.5)(0.9) = 0.55 $ slightly above random."
   ]
  },
  {
   "cell_type": "markdown",
   "metadata": {},
   "source": [
    "# Summary"
   ]
  },
  {
   "cell_type": "code",
   "execution_count": 41,
   "metadata": {},
   "outputs": [],
   "source": [
    "def plotSummary(sample, parameters, labels, cFrom = 0):\n",
    "    rewardMean = np.mean(sample.rewards[:,cFrom:,:], axis=2)\n",
    "    agentsChoice = np.arange(len(labels))\n",
    "    i=0\n",
    "    for a, parameter in zip(agentsChoice, parameters):\n",
    "            l = len(parameter)\n",
    "            plt.plot(parameter, np.mean(rewardMean[i:i+l], axis=1)\n",
    "                    , markersize=0.7, lw=1.5, label=labels[a])\n",
    "            i += l\n",
    "    plt.xlabel('Parameter(2^x)')\n",
    "    plt.ylabel('Average reward')\n",
    "    plt.legend(loc='best', fancybox=True)\n",
    "    plt.show()"
   ]
  },
  {
   "cell_type": "code",
   "execution_count": 39,
   "metadata": {},
   "outputs": [
    {
     "name": "stdout",
     "output_type": "stream",
     "text": [
      "Initial: 0.0\n",
      "Initial: 0.0\n",
      "Initial: 0.0\n",
      "Initial: 0.0\n",
      "Initial: 0.0\n",
      "Initial: 0.0\n",
      "Initial: 0.25\n",
      "Initial: 0.5\n",
      "Initial: 1.0\n",
      "Initial: 2.0\n",
      "Initial: 4.0\n"
     ]
    },
    {
     "data": {
      "application/vnd.jupyter.widget-view+json": {
       "model_id": "978522ab609547a397b43535a521b9cb",
       "version_major": 2,
       "version_minor": 0
      },
      "text/plain": [
       "HBox(children=(IntProgress(value=0, max=2000), HTML(value='')))"
      ]
     },
     "metadata": {},
     "output_type": "display_data"
    },
    {
     "data": {
      "application/vnd.jupyter.widget-view+json": {
       "model_id": "74d43f845d79454f984bcd7a2d3f0b6c",
       "version_major": 2,
       "version_minor": 0
      },
      "text/plain": [
       "HBox(children=(IntProgress(value=0, max=2000), HTML(value='')))"
      ]
     },
     "metadata": {},
     "output_type": "display_data"
    },
    {
     "data": {
      "application/vnd.jupyter.widget-view+json": {
       "model_id": "848f343bc14c40728042a116f52744a4",
       "version_major": 2,
       "version_minor": 0
      },
      "text/plain": [
       "HBox(children=(IntProgress(value=0, max=2000), HTML(value='')))"
      ]
     },
     "metadata": {},
     "output_type": "display_data"
    },
    {
     "data": {
      "application/vnd.jupyter.widget-view+json": {
       "model_id": "20d2dec3e281438abae82e9f413a8e87",
       "version_major": 2,
       "version_minor": 0
      },
      "text/plain": [
       "HBox(children=(IntProgress(value=0, max=2000), HTML(value='')))"
      ]
     },
     "metadata": {},
     "output_type": "display_data"
    },
    {
     "data": {
      "application/vnd.jupyter.widget-view+json": {
       "model_id": "435d6f5444644b3a95d84b6997addc7b",
       "version_major": 2,
       "version_minor": 0
      },
      "text/plain": [
       "HBox(children=(IntProgress(value=0, max=2000), HTML(value='')))"
      ]
     },
     "metadata": {},
     "output_type": "display_data"
    },
    {
     "data": {
      "application/vnd.jupyter.widget-view+json": {
       "model_id": "f00d1a08546445a2bdf9fe817455a322",
       "version_major": 2,
       "version_minor": 0
      },
      "text/plain": [
       "HBox(children=(IntProgress(value=0, max=2000), HTML(value='')))"
      ]
     },
     "metadata": {},
     "output_type": "display_data"
    },
    {
     "data": {
      "application/vnd.jupyter.widget-view+json": {
       "model_id": "6e345724ede548b181380d327caf08fa",
       "version_major": 2,
       "version_minor": 0
      },
      "text/plain": [
       "HBox(children=(IntProgress(value=0, max=2000), HTML(value='')))"
      ]
     },
     "metadata": {},
     "output_type": "display_data"
    },
    {
     "data": {
      "application/vnd.jupyter.widget-view+json": {
       "model_id": "4bc68a6a07fd41aebdb260363832bc20",
       "version_major": 2,
       "version_minor": 0
      },
      "text/plain": [
       "HBox(children=(IntProgress(value=0, max=2000), HTML(value='')))"
      ]
     },
     "metadata": {},
     "output_type": "display_data"
    },
    {
     "data": {
      "application/vnd.jupyter.widget-view+json": {
       "model_id": "cc33e967994b439294ebc2f45b2a5838",
       "version_major": 2,
       "version_minor": 0
      },
      "text/plain": [
       "HBox(children=(IntProgress(value=0, max=2000), HTML(value='')))"
      ]
     },
     "metadata": {},
     "output_type": "display_data"
    },
    {
     "data": {
      "application/vnd.jupyter.widget-view+json": {
       "model_id": "c6e163fb32654883a0b255e23c5e3795",
       "version_major": 2,
       "version_minor": 0
      },
      "text/plain": [
       "HBox(children=(IntProgress(value=0, max=2000), HTML(value='')))"
      ]
     },
     "metadata": {},
     "output_type": "display_data"
    },
    {
     "data": {
      "application/vnd.jupyter.widget-view+json": {
       "model_id": "680fde76d07b42eaad12a3f09fab631e",
       "version_major": 2,
       "version_minor": 0
      },
      "text/plain": [
       "HBox(children=(IntProgress(value=0, max=2000), HTML(value='')))"
      ]
     },
     "metadata": {},
     "output_type": "display_data"
    },
    {
     "data": {
      "application/vnd.jupyter.widget-view+json": {
       "model_id": "23267ee538614247abefa07ca71af16e",
       "version_major": 2,
       "version_minor": 0
      },
      "text/plain": [
       "HBox(children=(IntProgress(value=0, max=2000), HTML(value='')))"
      ]
     },
     "metadata": {},
     "output_type": "display_data"
    },
    {
     "data": {
      "application/vnd.jupyter.widget-view+json": {
       "model_id": "7730feb3976e4147aea209d011487de5",
       "version_major": 2,
       "version_minor": 0
      },
      "text/plain": [
       "HBox(children=(IntProgress(value=0, max=2000), HTML(value='')))"
      ]
     },
     "metadata": {},
     "output_type": "display_data"
    },
    {
     "data": {
      "application/vnd.jupyter.widget-view+json": {
       "model_id": "9ab17503146840babd212b00af738bf1",
       "version_major": 2,
       "version_minor": 0
      },
      "text/plain": [
       "HBox(children=(IntProgress(value=0, max=2000), HTML(value='')))"
      ]
     },
     "metadata": {},
     "output_type": "display_data"
    },
    {
     "data": {
      "application/vnd.jupyter.widget-view+json": {
       "model_id": "25189e17e4a344d38eb02bc857dac07a",
       "version_major": 2,
       "version_minor": 0
      },
      "text/plain": [
       "HBox(children=(IntProgress(value=0, max=2000), HTML(value='')))"
      ]
     },
     "metadata": {},
     "output_type": "display_data"
    },
    {
     "data": {
      "application/vnd.jupyter.widget-view+json": {
       "model_id": "af0b0bf55d914977a83ef1faffe87595",
       "version_major": 2,
       "version_minor": 0
      },
      "text/plain": [
       "HBox(children=(IntProgress(value=0, max=2000), HTML(value='')))"
      ]
     },
     "metadata": {},
     "output_type": "display_data"
    },
    {
     "data": {
      "application/vnd.jupyter.widget-view+json": {
       "model_id": "3412a203486c41059f4f445cb41a134c",
       "version_major": 2,
       "version_minor": 0
      },
      "text/plain": [
       "HBox(children=(IntProgress(value=0, max=2000), HTML(value='')))"
      ]
     },
     "metadata": {},
     "output_type": "display_data"
    },
    {
     "data": {
      "application/vnd.jupyter.widget-view+json": {
       "model_id": "ea27ee53baae4976b6bb0614c0480ad6",
       "version_major": 2,
       "version_minor": 0
      },
      "text/plain": [
       "HBox(children=(IntProgress(value=0, max=2000), HTML(value='')))"
      ]
     },
     "metadata": {},
     "output_type": "display_data"
    },
    {
     "data": {
      "application/vnd.jupyter.widget-view+json": {
       "model_id": "ec270abbd8c24ffc9abb043815b13b09",
       "version_major": 2,
       "version_minor": 0
      },
      "text/plain": [
       "HBox(children=(IntProgress(value=0, max=2000), HTML(value='')))"
      ]
     },
     "metadata": {},
     "output_type": "display_data"
    },
    {
     "data": {
      "application/vnd.jupyter.widget-view+json": {
       "model_id": "8436e48aa1d3442f9a2e1fba99aa7431",
       "version_major": 2,
       "version_minor": 0
      },
      "text/plain": [
       "HBox(children=(IntProgress(value=0, max=2000), HTML(value='')))"
      ]
     },
     "metadata": {},
     "output_type": "display_data"
    },
    {
     "data": {
      "application/vnd.jupyter.widget-view+json": {
       "model_id": "c1412141f51f4d82a7dc48396e012aa9",
       "version_major": 2,
       "version_minor": 0
      },
      "text/plain": [
       "HBox(children=(IntProgress(value=0, max=2000), HTML(value='')))"
      ]
     },
     "metadata": {},
     "output_type": "display_data"
    },
    {
     "data": {
      "application/vnd.jupyter.widget-view+json": {
       "model_id": "69eb123b35f84ad8ba3710cd083133f7",
       "version_major": 2,
       "version_minor": 0
      },
      "text/plain": [
       "HBox(children=(IntProgress(value=0, max=2000), HTML(value='')))"
      ]
     },
     "metadata": {},
     "output_type": "display_data"
    },
    {
     "data": {
      "application/vnd.jupyter.widget-view+json": {
       "model_id": "7eca3a6cf1984297aef99aad81c128df",
       "version_major": 2,
       "version_minor": 0
      },
      "text/plain": [
       "HBox(children=(IntProgress(value=0, max=2000), HTML(value='')))"
      ]
     },
     "metadata": {},
     "output_type": "display_data"
    },
    {
     "data": {
      "application/vnd.jupyter.widget-view+json": {
       "model_id": "8e6c675262db4ae19fcae9b4ac94cf36",
       "version_major": 2,
       "version_minor": 0
      },
      "text/plain": [
       "HBox(children=(IntProgress(value=0, max=2000), HTML(value='')))"
      ]
     },
     "metadata": {},
     "output_type": "display_data"
    },
    {
     "data": {
      "application/vnd.jupyter.widget-view+json": {
       "model_id": "4ae1007c5d484559a9a4bb63a75a07b5",
       "version_major": 2,
       "version_minor": 0
      },
      "text/plain": [
       "HBox(children=(IntProgress(value=0, max=2000), HTML(value='')))"
      ]
     },
     "metadata": {},
     "output_type": "display_data"
    },
    {
     "name": "stdout",
     "output_type": "stream",
     "text": [
      "\n",
      "\n",
      "\n",
      "\n",
      "\n",
      "\n",
      "\n",
      "\n",
      "\n",
      "\n",
      "\n",
      "\n",
      "\n",
      "\n",
      "\n",
      "\n",
      "\n",
      "\n",
      "\n",
      "\n",
      "\n",
      "\n",
      "\n",
      "\n",
      "\n"
     ]
    },
    {
     "ename": "NameError",
     "evalue": "name 'parameters' is not defined",
     "output_type": "error",
     "traceback": [
      "\u001b[0;31m---------------------------------------------------------------------------\u001b[0m",
      "\u001b[0;31mNameError\u001b[0m                                 Traceback (most recent call last)",
      "\u001b[0;32m<ipython-input-39-9fa0fee80aaa>\u001b[0m in \u001b[0;36m<module>\u001b[0;34m\u001b[0m\n\u001b[1;32m     21\u001b[0m \u001b[0msim\u001b[0m \u001b[0;34m=\u001b[0m \u001b[0mSimulate\u001b[0m\u001b[0;34m(\u001b[0m\u001b[0menv\u001b[0m\u001b[0;34m,\u001b[0m \u001b[0magents\u001b[0m\u001b[0;34m,\u001b[0m \u001b[0mruns\u001b[0m\u001b[0;34m=\u001b[0m\u001b[0;36m2000\u001b[0m\u001b[0;34m,\u001b[0m \u001b[0msteps\u001b[0m\u001b[0;34m=\u001b[0m\u001b[0;36m1000\u001b[0m\u001b[0;34m)\u001b[0m\u001b[0;34m\u001b[0m\u001b[0;34m\u001b[0m\u001b[0m\n\u001b[1;32m     22\u001b[0m \u001b[0msim\u001b[0m\u001b[0;34m.\u001b[0m\u001b[0mrun\u001b[0m\u001b[0;34m(\u001b[0m\u001b[0;34m)\u001b[0m\u001b[0;34m\u001b[0m\u001b[0;34m\u001b[0m\u001b[0m\n\u001b[0;32m---> 23\u001b[0;31m \u001b[0mplotSummary\u001b[0m\u001b[0;34m(\u001b[0m\u001b[0msim\u001b[0m\u001b[0;34m,\u001b[0m \u001b[0mparameters\u001b[0m\u001b[0;34m,\u001b[0m \u001b[0mlabels\u001b[0m\u001b[0;34m)\u001b[0m\u001b[0;34m\u001b[0m\u001b[0;34m\u001b[0m\u001b[0m\n\u001b[0m",
      "\u001b[0;31mNameError\u001b[0m: name 'parameters' is not defined"
     ]
    }
   ],
   "source": [
    "env = Environment()\n",
    "labels = ['epsilon-greedy', 'gradient bandit', 'UCB', 'optimistic initialization']\n",
    "generators = [\n",
    "                lambda epsilon: EpsilonGreedyAgent(env.k, epsilon=epsilon),\n",
    "                lambda initial: EpsilonGreedyAgent(env.k, epsilon=0, alpha=0.1, initial=initial),\n",
    "                lambda c: UCBAgent(env.k, c=c),\n",
    "                lambda alpha: GradientAgent(env.k, alpha=alpha, baseline=True)\n",
    "]\n",
    "params = [\n",
    "    np.arange(-7, -1, dtype=np.float),\n",
    "    np.arange(-2, 3, dtype=np.float),\n",
    "    np.arange(-4, 3, dtype=np.float),\n",
    "    np.arange(-5, 2, dtype=np.float)\n",
    "]\n",
    "agents = []\n",
    "\n",
    "for generator, parameter in zip(generators, params):\n",
    "    for param in parameter:\n",
    "        agents.append(generator(pow(2, param)))\n",
    "        \n",
    "sim = Simulate(env, agents, runs=2000, steps=1000)\n",
    "sim.run()"
   ]
  },
  {
   "cell_type": "code",
   "execution_count": 40,
   "metadata": {},
   "outputs": [
    {
     "ename": "AttributeError",
     "evalue": "'Simulate' object has no attribute 'rewardData'",
     "output_type": "error",
     "traceback": [
      "\u001b[0;31m---------------------------------------------------------------------------\u001b[0m",
      "\u001b[0;31mAttributeError\u001b[0m                            Traceback (most recent call last)",
      "\u001b[0;32m<ipython-input-40-63b85511df8f>\u001b[0m in \u001b[0;36m<module>\u001b[0;34m\u001b[0m\n\u001b[0;32m----> 1\u001b[0;31m \u001b[0mplotSummary\u001b[0m\u001b[0;34m(\u001b[0m\u001b[0msim\u001b[0m\u001b[0;34m,\u001b[0m \u001b[0mparams\u001b[0m\u001b[0;34m,\u001b[0m \u001b[0mlabels\u001b[0m\u001b[0;34m)\u001b[0m\u001b[0;34m\u001b[0m\u001b[0;34m\u001b[0m\u001b[0m\n\u001b[0m",
      "\u001b[0;32m<ipython-input-23-b853fe97dcc0>\u001b[0m in \u001b[0;36mplotSummary\u001b[0;34m(sample, parameters, labels, cFrom)\u001b[0m\n\u001b[1;32m      1\u001b[0m \u001b[0;32mdef\u001b[0m \u001b[0mplotSummary\u001b[0m\u001b[0;34m(\u001b[0m\u001b[0msample\u001b[0m\u001b[0;34m,\u001b[0m \u001b[0mparameters\u001b[0m\u001b[0;34m,\u001b[0m \u001b[0mlabels\u001b[0m\u001b[0;34m,\u001b[0m \u001b[0mcFrom\u001b[0m \u001b[0;34m=\u001b[0m \u001b[0;36m0\u001b[0m\u001b[0;34m)\u001b[0m\u001b[0;34m:\u001b[0m\u001b[0;34m\u001b[0m\u001b[0;34m\u001b[0m\u001b[0m\n\u001b[0;32m----> 2\u001b[0;31m     \u001b[0mrewardMean\u001b[0m \u001b[0;34m=\u001b[0m \u001b[0mnp\u001b[0m\u001b[0;34m.\u001b[0m\u001b[0mmean\u001b[0m\u001b[0;34m(\u001b[0m\u001b[0msample\u001b[0m\u001b[0;34m.\u001b[0m\u001b[0mrewardData\u001b[0m\u001b[0;34m[\u001b[0m\u001b[0;34m:\u001b[0m\u001b[0;34m,\u001b[0m\u001b[0mcFrom\u001b[0m\u001b[0;34m:\u001b[0m\u001b[0;34m,\u001b[0m\u001b[0;34m:\u001b[0m\u001b[0;34m]\u001b[0m\u001b[0;34m,\u001b[0m \u001b[0maxis\u001b[0m\u001b[0;34m=\u001b[0m\u001b[0;36m2\u001b[0m\u001b[0;34m)\u001b[0m\u001b[0;34m\u001b[0m\u001b[0;34m\u001b[0m\u001b[0m\n\u001b[0m\u001b[1;32m      3\u001b[0m     \u001b[0magentsChoice\u001b[0m \u001b[0;34m=\u001b[0m \u001b[0mnp\u001b[0m\u001b[0;34m.\u001b[0m\u001b[0marange\u001b[0m\u001b[0;34m(\u001b[0m\u001b[0mlen\u001b[0m\u001b[0;34m(\u001b[0m\u001b[0mlabels\u001b[0m\u001b[0;34m)\u001b[0m\u001b[0;34m)\u001b[0m\u001b[0;34m\u001b[0m\u001b[0;34m\u001b[0m\u001b[0m\n\u001b[1;32m      4\u001b[0m     \u001b[0mi\u001b[0m\u001b[0;34m=\u001b[0m\u001b[0;36m0\u001b[0m\u001b[0;34m\u001b[0m\u001b[0;34m\u001b[0m\u001b[0m\n\u001b[1;32m      5\u001b[0m     \u001b[0;32mfor\u001b[0m \u001b[0ma\u001b[0m\u001b[0;34m,\u001b[0m \u001b[0mparameter\u001b[0m \u001b[0;32min\u001b[0m \u001b[0mzip\u001b[0m\u001b[0;34m(\u001b[0m\u001b[0magentsChoice\u001b[0m\u001b[0;34m,\u001b[0m \u001b[0mparameters\u001b[0m\u001b[0;34m)\u001b[0m\u001b[0;34m:\u001b[0m\u001b[0;34m\u001b[0m\u001b[0;34m\u001b[0m\u001b[0m\n",
      "\u001b[0;31mAttributeError\u001b[0m: 'Simulate' object has no attribute 'rewardData'"
     ]
    }
   ],
   "source": [
    "plotSummary(sim, params, labels)"
   ]
  },
  {
   "cell_type": "markdown",
   "metadata": {},
   "source": [
    "## Exercise 2.11\n",
    "---\n",
    "Make a figure analogous to Figure 2.6 for the nonstationary case outlined in Exercise 2.5. Include the constant-step-size $ \\epsilon $-greedy algorithm with $ \\alpha=0.1 $. Use runs of 200,000 steps and, as a performance measure for each algorithm and parameter setting, use the average reward over the last 100,000 steps"
   ]
  },
  {
   "cell_type": "code",
   "execution_count": null,
   "metadata": {},
   "outputs": [],
   "source": []
  }
 ],
 "metadata": {
  "kernelspec": {
   "display_name": "Python 3",
   "language": "python",
   "name": "python3"
  },
  "language_info": {
   "codemirror_mode": {
    "name": "ipython",
    "version": 3
   },
   "file_extension": ".py",
   "mimetype": "text/x-python",
   "name": "python",
   "nbconvert_exporter": "python",
   "pygments_lexer": "ipython3",
   "version": "3.6.8"
  }
 },
 "nbformat": 4,
 "nbformat_minor": 2
}
